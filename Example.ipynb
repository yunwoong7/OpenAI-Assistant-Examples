{
 "cells": [
  {
   "cell_type": "markdown",
   "id": "0e7b90be-4f7d-46cb-ab2e-e4f7b90676d6",
   "metadata": {},
   "source": [
    "## Import package"
   ]
  },
  {
   "cell_type": "code",
   "execution_count": 35,
   "id": "e6758b33-2b5b-4bcd-b7fb-0e01bcff50cc",
   "metadata": {},
   "outputs": [],
   "source": [
    "import os\n",
    "import openai"
   ]
  },
  {
   "cell_type": "markdown",
   "id": "b1be9ab5-8cd6-469a-bd4f-2e07d0f7557e",
   "metadata": {},
   "source": [
    "## 1) Assistant 생성"
   ]
  },
  {
   "cell_type": "code",
   "execution_count": 19,
   "id": "aa138f44-1c27-4ec7-b827-295c2160381e",
   "metadata": {},
   "outputs": [],
   "source": [
    "\n",
    "\n",
    "# OPENAI API 키를 환경 변수에 저장합니다.\n",
    "# 주의: 실제 코드에서는 API 키를 코드에 직접 작성하는 것은 보안에 좋지 않습니다.\n",
    "# 이 코드는 예시를 위한 것이며, 실제 사용시에는 키를 안전하게 관리해야 합니다.\n",
    "# os.environ[\"OPENAI_API_KEY\"] = \"YOUR_OPENAI_API_KEY\"\n",
    "\n",
    "# API 키를 제공하여 OpenAI 클라이언트를 생성합니다.\n",
    "client = openai.OpenAI(api_key=os.environ[\"OPENAI_API_KEY\"])"
   ]
  },
  {
   "cell_type": "code",
   "execution_count": 20,
   "id": "b76ddfc2-1e46-49af-b444-925abc81cec7",
   "metadata": {},
   "outputs": [],
   "source": [
    "# 어시스턴트 생성\n",
    "\n",
    "assistant = client.beta.assistants.create(\n",
    "    name=\"Recipe 전문가\",\n",
    "    instructions=\"사용자가 요리법을 요청할 때, 관련 레시피 데이터베이스에서 정보를 검색하고, 이해하기 쉽고 실행 가능한 조리법을 단계별로 설명 해주세요.\",\n",
    "    model=\"gpt-4-1106-preview\",\n",
    "    tools=[{\"type\":\"retrieval\"}]\n",
    ")"
   ]
  },
  {
   "cell_type": "markdown",
   "id": "66576168-dd81-48d7-bc2d-dc452b527d1f",
   "metadata": {},
   "source": [
    "## 2) Document Load"
   ]
  },
  {
   "cell_type": "code",
   "execution_count": 21,
   "id": "f2a718e2-655d-4016-8527-ba79c2b0c587",
   "metadata": {},
   "outputs": [],
   "source": [
    "# upload the file\n",
    "file = client.files.create(\n",
    "    file=open(\n",
    "        \"asset/recipe.pdf\",\n",
    "        \"rb\",\n",
    "    ),\n",
    "    purpose=\"assistants\",\n",
    ")\n",
    "\n",
    "# update Assistant\n",
    "assistant = client.beta.assistants.update(\n",
    "    assistant.id,\n",
    "    file_ids=[file.id],\n",
    ")"
   ]
  },
  {
   "cell_type": "markdown",
   "id": "181028bf-7be0-41c6-9975-76b0c28be762",
   "metadata": {},
   "source": [
    "## 3) Thread 생성 및 Message 저장"
   ]
  },
  {
   "cell_type": "code",
   "execution_count": 22,
   "id": "14118da4-5e77-4e40-9424-febf4dc04e77",
   "metadata": {},
   "outputs": [],
   "source": [
    "# creating a thread\n",
    "cooking_thread = client.beta.threads.create()"
   ]
  },
  {
   "cell_type": "code",
   "execution_count": 28,
   "id": "72337c3d-9cb6-4ebd-beb8-53914bfe846a",
   "metadata": {},
   "outputs": [],
   "source": [
    "# 스레드에 첫 번째 메시지 추가\n",
    "message = client.beta.threads.messages.create(\n",
    "    thread_id=cooking_thread.id,\n",
    "    role=\"user\",\n",
    "    content=\"칸쇼 새우 만드는 법 알려줘요\"\n",
    ")"
   ]
  },
  {
   "cell_type": "markdown",
   "id": "467929b8-16ac-43cf-8720-ba30db019eee",
   "metadata": {},
   "source": [
    "## 4) 어시스턴트 실행(Run)"
   ]
  },
  {
   "cell_type": "code",
   "execution_count": 29,
   "id": "92178705-cb43-471e-94dc-af92ec143828",
   "metadata": {},
   "outputs": [],
   "source": [
    "# Creating an Run\n",
    "\n",
    "run = client.beta.threads.runs.create(\n",
    "    assistant_id=assistant.id,\n",
    "    thread_id=cooking_thread.id    \n",
    ")"
   ]
  },
  {
   "cell_type": "markdown",
   "id": "8227fdb0-aece-462e-9811-b2531b187d94",
   "metadata": {},
   "source": [
    "## 5) Message 출력"
   ]
  },
  {
   "cell_type": "code",
   "execution_count": 30,
   "id": "d759ba24-423a-4a00-8467-933e09f5c7ea",
   "metadata": {},
   "outputs": [],
   "source": [
    "import time\n",
    "\n",
    "# creating a function to check whether the Run is completed or not\n",
    "def poll_run(run, thread):\n",
    "    while run.status != \"completed\":\n",
    "        run = client.beta.threads.runs.retrieve(\n",
    "            thread_id=thread.id,\n",
    "            run_id=run.id,\n",
    "        )\n",
    "        time.sleep(0.5)\n",
    "    return run\n",
    "    \n",
    "# waiting for the run to be completed\n",
    "run = poll_run(run, cooking_thread)"
   ]
  },
  {
   "cell_type": "code",
   "execution_count": 31,
   "id": "83e4165c-c625-43b2-8f37-fbd2d7468b7c",
   "metadata": {},
   "outputs": [
    {
     "name": "stdout",
     "output_type": "stream",
     "text": [
      "assistant: I've attempted to find the recipe for \"칸쇼 새우\" but encountered difficulties accessing the specific instructions you're requesting. It seems that the portion of the document I can view does not contain the detailed recipe steps, and my current tool capabilities do not allow me to search through the rest of the document effectively. \n",
      "\n",
      "If there's any other way I can assist you, please let me know! If you have a different recipe you'd like to inquire about, or if there's any other information related to \"칸쇼 새우\" or otherwise that you're looking for, feel free to ask.\n",
      "user: 칸쇼 새우 만드는 법 알려줘요\n",
      "assistant: 칸쇼 새우 조리 시 사용하는 야채 재료는 다음과 같습니다:\n",
      "\n",
      "- 새우 200g\n",
      "- 완두콩 2큰술\n",
      "- 당근 ¼개\n",
      "\n",
      "이 밖에도 소스 만들기에 사용하는 재료들은 다음과 같습니다:\n",
      "\n",
      "- 고추기름 2큰술\n",
      "- 대파 ¼대\n",
      "- 마늘 ½큰술\n",
      "- 생강 1작은술\n",
      "- 설탕 2큰술\n",
      "- 식초 1큰술【21†source】.\n",
      "user: 야채 재료만 알려주세요\n",
      "assistant: I apologize for the inconvenience, but it seems that I'm still not able to locate the specific recipe for \"칸쇼 새우\". The document appears to include information on the use and maintenance of an air fryer, rather than recipes. Unfortunately, I'm unable to provide you with the recipe in this instance. If you have any other cookbooks or recipes, I'd be happy to help you look through those!\n",
      "assistant: 블로거 모아이의 조리법 중 '칸쇼 새우' 레시피를 찾았으나, 세부 지침이 포함된 내용을 확인하지 못했습니다【9†source】. 레시피에 대한 자세한 정보를 검색하는 과정에서 문서 끝부분을 넘어갔을 가능성이 있습니다. 다시 검색하여 '칸쇼 새우' 레시피의 조리 방법에 관한 정보를 찾겠습니다.\n",
      "user: 칸쇼 새우 만드는 법 알려줘요\n"
     ]
    }
   ],
   "source": [
    "# extracting the message\n",
    "messages = client.beta.threads.messages.list(thread_id=cooking_thread.id)\n",
    "\n",
    "for m in messages:\n",
    "    print(f\"{m.role}: {m.content[0].text.value}\")"
   ]
  },
  {
   "cell_type": "code",
   "execution_count": 32,
   "id": "cb409ea8-fbbc-41f7-8c86-0b44605fc816",
   "metadata": {},
   "outputs": [
    {
     "name": "stdout",
     "output_type": "stream",
     "text": [
      "assistant: 앞서 언급했듯이, 칸쇼 새우를 만들 때 필요한 야채 재료는 다음과 같습니다:\n",
      "\n",
      "- 완두콩 2큰술\n",
      "- 당근 ¼개\n",
      "\n",
      "그리고 소스를 만들 때 사용하는 재료들은 다음을 포함합니다:\n",
      "\n",
      "- 고추기름 2큰술\n",
      "- 대파 ¼대\n",
      "- 마늘 ½큰술\n",
      "- 생강 1작은술【20†source】.\n",
      "user: 야채 재료만 알려주세요\n",
      "assistant: I've attempted to find the recipe for \"칸쇼 새우\" but encountered difficulties accessing the specific instructions you're requesting. It seems that the portion of the document I can view does not contain the detailed recipe steps, and my current tool capabilities do not allow me to search through the rest of the document effectively. \n",
      "\n",
      "If there's any other way I can assist you, please let me know! If you have a different recipe you'd like to inquire about, or if there's any other information related to \"칸쇼 새우\" or otherwise that you're looking for, feel free to ask.\n",
      "user: 칸쇼 새우 만드는 법 알려줘요\n",
      "assistant: 칸쇼 새우 조리 시 사용하는 야채 재료는 다음과 같습니다:\n",
      "\n",
      "- 새우 200g\n",
      "- 완두콩 2큰술\n",
      "- 당근 ¼개\n",
      "\n",
      "이 밖에도 소스 만들기에 사용하는 재료들은 다음과 같습니다:\n",
      "\n",
      "- 고추기름 2큰술\n",
      "- 대파 ¼대\n",
      "- 마늘 ½큰술\n",
      "- 생강 1작은술\n",
      "- 설탕 2큰술\n",
      "- 식초 1큰술【21†source】.\n",
      "user: 야채 재료만 알려주세요\n",
      "assistant: I apologize for the inconvenience, but it seems that I'm still not able to locate the specific recipe for \"칸쇼 새우\". The document appears to include information on the use and maintenance of an air fryer, rather than recipes. Unfortunately, I'm unable to provide you with the recipe in this instance. If you have any other cookbooks or recipes, I'd be happy to help you look through those!\n",
      "assistant: 블로거 모아이의 조리법 중 '칸쇼 새우' 레시피를 찾았으나, 세부 지침이 포함된 내용을 확인하지 못했습니다【9†source】. 레시피에 대한 자세한 정보를 검색하는 과정에서 문서 끝부분을 넘어갔을 가능성이 있습니다. 다시 검색하여 '칸쇼 새우' 레시피의 조리 방법에 관한 정보를 찾겠습니다.\n",
      "user: 칸쇼 새우 만드는 법 알려줘요\n"
     ]
    }
   ],
   "source": [
    "# 두 번째 메시지 생성\n",
    "message2 = client.beta.threads.messages.create(\n",
    "    thread_id=cooking_thread.id,\n",
    "    role=\"user\",\n",
    "    content=\"야채 재료만 알려주세요\"\n",
    ")\n",
    "\n",
    "# Run 생성\n",
    "run = client.beta.threads.runs.create(\n",
    "    thread_id=cooking_thread.id,\n",
    "    assistant_id=assistant.id\n",
    ")\n",
    "\n",
    "# Run 메서드가 완료될 때까지 대기\n",
    "run = poll_run(run, cooking_thread)\n",
    "\n",
    "# 메시지 추출\n",
    "messages = client.beta.threads.messages.list(thread_id=cooking_thread.id)\n",
    "\n",
    "for m in messages:\n",
    "    print(f\"{m.role}: {m.content[0].text.value}\")\n"
   ]
  },
  {
   "cell_type": "code",
   "execution_count": 33,
   "id": "7697e61a-ae1d-4e40-ada0-db7c490fb062",
   "metadata": {},
   "outputs": [
    {
     "name": "stdout",
     "output_type": "stream",
     "text": [
      "assistant: 안녕하세요 김윤웅 님, 만나서 반가워요! 칸쇼 새우 조리법에 대해 도움이 필요하시면 언제든지 알려주세요. 다른 질문이나 요청 사항이 있으시면 말씀해주시길 바랍니다.\n",
      "user: 내 이름은 김윤웅이야\n",
      "assistant: 앞서 언급했듯이, 칸쇼 새우를 만들 때 필요한 야채 재료는 다음과 같습니다:\n",
      "\n",
      "- 완두콩 2큰술\n",
      "- 당근 ¼개\n",
      "\n",
      "그리고 소스를 만들 때 사용하는 재료들은 다음을 포함합니다:\n",
      "\n",
      "- 고추기름 2큰술\n",
      "- 대파 ¼대\n",
      "- 마늘 ½큰술\n",
      "- 생강 1작은술【20†source】.\n",
      "user: 야채 재료만 알려주세요\n",
      "assistant: I've attempted to find the recipe for \"칸쇼 새우\" but encountered difficulties accessing the specific instructions you're requesting. It seems that the portion of the document I can view does not contain the detailed recipe steps, and my current tool capabilities do not allow me to search through the rest of the document effectively. \n",
      "\n",
      "If there's any other way I can assist you, please let me know! If you have a different recipe you'd like to inquire about, or if there's any other information related to \"칸쇼 새우\" or otherwise that you're looking for, feel free to ask.\n",
      "user: 칸쇼 새우 만드는 법 알려줘요\n",
      "assistant: 칸쇼 새우 조리 시 사용하는 야채 재료는 다음과 같습니다:\n",
      "\n",
      "- 새우 200g\n",
      "- 완두콩 2큰술\n",
      "- 당근 ¼개\n",
      "\n",
      "이 밖에도 소스 만들기에 사용하는 재료들은 다음과 같습니다:\n",
      "\n",
      "- 고추기름 2큰술\n",
      "- 대파 ¼대\n",
      "- 마늘 ½큰술\n",
      "- 생강 1작은술\n",
      "- 설탕 2큰술\n",
      "- 식초 1큰술【21†source】.\n",
      "user: 야채 재료만 알려주세요\n",
      "assistant: I apologize for the inconvenience, but it seems that I'm still not able to locate the specific recipe for \"칸쇼 새우\". The document appears to include information on the use and maintenance of an air fryer, rather than recipes. Unfortunately, I'm unable to provide you with the recipe in this instance. If you have any other cookbooks or recipes, I'd be happy to help you look through those!\n",
      "assistant: 블로거 모아이의 조리법 중 '칸쇼 새우' 레시피를 찾았으나, 세부 지침이 포함된 내용을 확인하지 못했습니다【9†source】. 레시피에 대한 자세한 정보를 검색하는 과정에서 문서 끝부분을 넘어갔을 가능성이 있습니다. 다시 검색하여 '칸쇼 새우' 레시피의 조리 방법에 관한 정보를 찾겠습니다.\n",
      "user: 칸쇼 새우 만드는 법 알려줘요\n"
     ]
    }
   ],
   "source": [
    "# 두 번째 메시지 생성\n",
    "message3 = client.beta.threads.messages.create(\n",
    "    thread_id=cooking_thread.id,\n",
    "    role=\"user\",\n",
    "    content=\"내 이름은 김윤웅이야\"\n",
    ")\n",
    "\n",
    "# Run 생성\n",
    "run = client.beta.threads.runs.create(\n",
    "    thread_id=cooking_thread.id,\n",
    "    assistant_id=assistant.id\n",
    ")\n",
    "\n",
    "# Run 메서드가 완료될 때까지 대기\n",
    "run = poll_run(run, cooking_thread)\n",
    "\n",
    "# 메시지 추출\n",
    "messages = client.beta.threads.messages.list(thread_id=cooking_thread.id)\n",
    "\n",
    "for m in messages:\n",
    "    print(f\"{m.role}: {m.content[0].text.value}\")"
   ]
  },
  {
   "cell_type": "code",
   "execution_count": 34,
   "id": "390e4d0c-b76e-41f2-961b-202a12c64e69",
   "metadata": {},
   "outputs": [
    {
     "name": "stdout",
     "output_type": "stream",
     "text": [
      "assistant: 네, 앞서 말씀하셨듯이 김윤웅 님이라고 하셨습니다. 무엇을 도와드릴까요?\n",
      "user: 내 이름이 뭔지 알아?\n",
      "assistant: 안녕하세요 김윤웅 님, 만나서 반가워요! 칸쇼 새우 조리법에 대해 도움이 필요하시면 언제든지 알려주세요. 다른 질문이나 요청 사항이 있으시면 말씀해주시길 바랍니다.\n",
      "user: 내 이름은 김윤웅이야\n",
      "assistant: 앞서 언급했듯이, 칸쇼 새우를 만들 때 필요한 야채 재료는 다음과 같습니다:\n",
      "\n",
      "- 완두콩 2큰술\n",
      "- 당근 ¼개\n",
      "\n",
      "그리고 소스를 만들 때 사용하는 재료들은 다음을 포함합니다:\n",
      "\n",
      "- 고추기름 2큰술\n",
      "- 대파 ¼대\n",
      "- 마늘 ½큰술\n",
      "- 생강 1작은술【20†source】.\n",
      "user: 야채 재료만 알려주세요\n",
      "assistant: I've attempted to find the recipe for \"칸쇼 새우\" but encountered difficulties accessing the specific instructions you're requesting. It seems that the portion of the document I can view does not contain the detailed recipe steps, and my current tool capabilities do not allow me to search through the rest of the document effectively. \n",
      "\n",
      "If there's any other way I can assist you, please let me know! If you have a different recipe you'd like to inquire about, or if there's any other information related to \"칸쇼 새우\" or otherwise that you're looking for, feel free to ask.\n",
      "user: 칸쇼 새우 만드는 법 알려줘요\n",
      "assistant: 칸쇼 새우 조리 시 사용하는 야채 재료는 다음과 같습니다:\n",
      "\n",
      "- 새우 200g\n",
      "- 완두콩 2큰술\n",
      "- 당근 ¼개\n",
      "\n",
      "이 밖에도 소스 만들기에 사용하는 재료들은 다음과 같습니다:\n",
      "\n",
      "- 고추기름 2큰술\n",
      "- 대파 ¼대\n",
      "- 마늘 ½큰술\n",
      "- 생강 1작은술\n",
      "- 설탕 2큰술\n",
      "- 식초 1큰술【21†source】.\n",
      "user: 야채 재료만 알려주세요\n",
      "assistant: I apologize for the inconvenience, but it seems that I'm still not able to locate the specific recipe for \"칸쇼 새우\". The document appears to include information on the use and maintenance of an air fryer, rather than recipes. Unfortunately, I'm unable to provide you with the recipe in this instance. If you have any other cookbooks or recipes, I'd be happy to help you look through those!\n",
      "assistant: 블로거 모아이의 조리법 중 '칸쇼 새우' 레시피를 찾았으나, 세부 지침이 포함된 내용을 확인하지 못했습니다【9†source】. 레시피에 대한 자세한 정보를 검색하는 과정에서 문서 끝부분을 넘어갔을 가능성이 있습니다. 다시 검색하여 '칸쇼 새우' 레시피의 조리 방법에 관한 정보를 찾겠습니다.\n",
      "user: 칸쇼 새우 만드는 법 알려줘요\n"
     ]
    }
   ],
   "source": [
    "# 두 번째 메시지 생성\n",
    "message4 = client.beta.threads.messages.create(\n",
    "    thread_id=cooking_thread.id,\n",
    "    role=\"user\",\n",
    "    content=\"내 이름이 뭔지 알아?\"\n",
    ")\n",
    "\n",
    "# Run 생성\n",
    "run = client.beta.threads.runs.create(\n",
    "    thread_id=cooking_thread.id,\n",
    "    assistant_id=assistant.id\n",
    ")\n",
    "\n",
    "# Run 메서드가 완료될 때까지 대기\n",
    "run = poll_run(run, cooking_thread)\n",
    "\n",
    "# 메시지 추출\n",
    "messages = client.beta.threads.messages.list(thread_id=cooking_thread.id)\n",
    "\n",
    "for m in messages:\n",
    "    print(f\"{m.role}: {m.content[0].text.value}\")"
   ]
  },
  {
   "cell_type": "code",
   "execution_count": null,
   "id": "27ce5880-0427-4f5f-9130-ade4fdf13fea",
   "metadata": {},
   "outputs": [],
   "source": []
  }
 ],
 "metadata": {
  "kernelspec": {
   "display_name": "gpt4v_env",
   "language": "python",
   "name": "gpt4v_env"
  },
  "language_info": {
   "codemirror_mode": {
    "name": "ipython",
    "version": 3
   },
   "file_extension": ".py",
   "mimetype": "text/x-python",
   "name": "python",
   "nbconvert_exporter": "python",
   "pygments_lexer": "ipython3",
   "version": "3.9.18"
  }
 },
 "nbformat": 4,
 "nbformat_minor": 5
}
